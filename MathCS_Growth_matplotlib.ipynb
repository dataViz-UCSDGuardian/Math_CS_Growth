{
 "cells": [
  {
   "cell_type": "code",
   "execution_count": 4,
   "metadata": {
    "collapsed": true
   },
   "outputs": [],
   "source": [
    "from pandas import DataFrame, read_excel\n",
    "import numpy as np\n",
    "import matplotlib.pyplot as mpl "
   ]
  },
  {
   "cell_type": "code",
   "execution_count": 35,
   "metadata": {
    "collapsed": false
   },
   "outputs": [
    {
     "data": {
      "text/plain": [
       "array([\"Fall '11\", 14, 896, 242, 50, 74, 16, 53], dtype=object)"
      ]
     },
     "execution_count": 35,
     "metadata": {},
     "output_type": "execute_result"
    }
   ],
   "source": [
    "### set up dataframe ###\n",
    "df = read_excel(\"Growth of MathCS Data.xlsx\").as_matrix()\n",
    "# transpose Matrix to align majors with rows\n",
    "dfT = [[row[i] for row in df] for i in range(df[0].size)] \n",
    "dMCS, dCSC, dCEC, dBIO, dCEE, dCPC, dHCI = dfT[1], dfT[2], dfT[3], dfT[4], dfT[5], dfT[6], dfT[7]\n",
    "#dMCS, dCSC "
   ]
  },
  {
   "cell_type": "code",
   "execution_count": null,
   "metadata": {
    "collapsed": false
   },
   "outputs": [],
   "source": [
    "### set up plot values, attributes ###\n",
    "width = .35\n",
    "n = np.arange(14)\n",
    "\n",
    "# MathCS\n",
    "pMCS = mpl.bar( n, dMCS, width, color = 'black')\n",
    "# CS\n",
    "pCSC = mpl.bar( n, dCSC, width, bottom = np.array(dMCS), color = 'white')\n",
    "# CE CSE\n",
    "pCEC = mpl.bar( n, dCEC, width, bottom = np.array(dMCS) + np.array(dCSC), color = 'black')\n",
    "# Bioinf\n",
    "pBIO = mpl.bar( n, dBIO, width, bottom = np.array(dMCS) + np.array(dCSC) + np.array(dCEC), color = 'white')\n",
    "# CE ECE\n",
    "pCEE = mpl.bar( n, dCEE, width, bottom = np.array(dMCS) + np.array(dCSC) + np.array(dCEC) + np.array(dBIO), color = 'black')\n",
    "# Computation\n",
    "pCPC = mpl.bar( n, dCPC, width, bottom = np.array(dMCS) + np.array(dCSC) + np.array(dCEC) + np.array(dBIO) + np.array(dCEE), color = 'white')\n",
    "# Human Computer Interaction\n",
    "pHCI = mpl.bar( n, dHCI, width, bottom = np.array(dMCS) + np.array(dCSC) + np.array(dCEC) + np.array(dBIO) + np.array(dCEE) + np.array(dCPC), color = 'black')\n",
    "\n",
    "inc = [width/2, width/2, width/2, width/2, width/2, width/2, width/2, width/2, width/2, width/2, width/2, width/2, width/2, width/2]\n",
    "mpl.title('Growth of Math-Computer Science Among Computer Science Derivatives')\n",
    "mpl.ylabel('Undergraduates (Hundreds)')\n",
    "#mpl.xticks(np.array(n) + np.array(inc), df['Quarter'])\n",
    "mpl.yticks(np.arange(0, 2.5, 35,))\n",
    "mpl.legend((pMCS[0], pCSC[0], pCEC[0], pBIO[0], pCEE[0], pCPC[0], pHCI[0]), \n",
    "           ('Math-Computer Science (MATH)','Computer Science (CSE)','Computer Engineering (CSE)', 'Bioinformatics (CSE)', \n",
    "            'Computer Engineering (ECE)', 'Computation (COGS)', 'Human-Computer Interaction (COGS)'))\n",
    "mpl.show()"
   ]
  },
  {
   "cell_type": "code",
   "execution_count": 33,
   "metadata": {
    "collapsed": false
   },
   "outputs": [],
   "source": [
    "### more readable in terms of individual elements but the line is way too long to actually understand ###\n",
    "#width = .35\n",
    "#n = np.arange(7)\n",
    "#pMCS = mpl.bar( n, df['Math-Computer Science (MATH)'], width) # MathCS\n",
    "#pCSC = mpl.bar( n, df['Computer Science (CSE)'], width, bottom = df['Math-Computer Science (MATH)']) # CS\n",
    "#pCEC = mpl.bar( n, df['Computer Engineering (CSE)'], width, bottom = df['Computer Science (CSE)']) # CE CSE\n",
    "#pBIO = mpl.bar( n, df['Bioinformatics'], width, bottom = df['Computer Engineering (CSE)']) # Bioinf\n",
    "#pCEE = mpl.bar( n, df['Computer Engineering (ECE)'], width, bottom = df['Bioinformatics']) # CE ECE\n",
    "#pCPC = mpl.bar( n, df['Computation (COGS)'], width, bottom = df['Computer Engineering (ECE)']) # Computation\n",
    "#pHCI = mpl.bar( n, df['Human-Computer Interaction (COGS)'], width, bottom = df['Computation (COGS)']) # Human Comp Interaction "
   ]
  },
  {
   "cell_type": "code",
   "execution_count": null,
   "metadata": {
    "collapsed": true
   },
   "outputs": [],
   "source": []
  }
 ],
 "metadata": {
  "kernelspec": {
   "display_name": "Python 3",
   "language": "python",
   "name": "python3"
  },
  "language_info": {
   "codemirror_mode": {
    "name": "ipython",
    "version": 3
   },
   "file_extension": ".py",
   "mimetype": "text/x-python",
   "name": "python",
   "nbconvert_exporter": "python",
   "pygments_lexer": "ipython3",
   "version": "3.5.1"
  }
 },
 "nbformat": 4,
 "nbformat_minor": 0
}
