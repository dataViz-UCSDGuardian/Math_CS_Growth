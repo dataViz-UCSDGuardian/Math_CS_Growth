{
 "cells": [
  {
   "cell_type": "code",
   "execution_count": 1,
   "metadata": {
    "collapsed": true
   },
   "outputs": [],
   "source": [
    "from pandas import DataFrame, read_excel\n",
    "import numpy as np\n",
    "import matplotlib.pyplot as mpl "
   ]
  },
  {
   "cell_type": "code",
   "execution_count": 2,
   "metadata": {
    "collapsed": false
   },
   "outputs": [],
   "source": [
    "### set up dataframe ###\n",
    "df = read_excel(\"Growth of MathCS Data.xlsx\").as_matrix()\n",
    "# transpose Matrix to align majors with rows\n",
    "dfT = [[row[i] for row in df] for i in range(df[0].size)] \n",
    "dMCS, dCSC, dCEC, dBIO, dCEE, dCPC, dHCI = dfT[1], dfT[2], dfT[3], dfT[4], dfT[5], dfT[6], dfT[7]"
   ]
  },
  {
   "cell_type": "code",
   "execution_count": 40,
   "metadata": {
    "collapsed": false
   },
   "outputs": [],
   "source": [
    "### set up plot values, attributes ABSOLUTE###\n",
    "width = 1\n",
    "n = np.arange(14)\n",
    "\n",
    "# MathCS\n",
    "pMCS = mpl.bar( n, dMCS, width, color = 'black')\n",
    "# CS\n",
    "pCSC = mpl.bar( n, dCSC, width, bottom = np.array(dMCS), color = 'white')\n",
    "# CE CSE\n",
    "pCEC = mpl.bar( n, dCEC, width, bottom = np.array(dMCS) + np.array(dCSC), color = 'gray', hatch = '.')\n",
    "# Bioinf\n",
    "pBIO = mpl.bar( n, dBIO, width, bottom = np.array(dMCS) + np.array(dCSC) + np.array(dCEC), color = 'white', hatch = '\\\\')\n",
    "# CE ECE\n",
    "pCEE = mpl.bar( n, dCEE, width, bottom = np.array(dMCS) + np.array(dCSC) + np.array(dCEC) + np.array(dBIO), color = 'gray', hatch = 'o')\n",
    "# Computation\n",
    "pCPC = mpl.bar( n, dCPC, width, bottom = np.array(dMCS) + np.array(dCSC) + np.array(dCEC) + np.array(dBIO) + np.array(dCEE), color = 'white', hatch = '/')\n",
    "# Human Computer Interaction\n",
    "pHCI = mpl.bar( n, dHCI, width, bottom = np.array(dMCS) + np.array(dCSC) + np.array(dCEC) + np.array(dBIO) + np.array(dCEE) + np.array(dCPC), color = 'gray')\n",
    "\n",
    "mpl.title('Growth of Math-Computer Science Among Computer Science Derivatives')\n",
    "mpl.ylabel('Number of Undergraduates')\n",
    "mpl.xticks(np.arange(14) + np.array(np.ones(14)*.5), dfT[0])\n",
    "mpl.yticks(np.arange(0, 3500, 500))\n",
    "# create legend table\n",
    "mpl.legend((pMCS[0], pCSC[0], pCEC[0], pBIO[0], pCEE[0], pCPC[0], pHCI[0]),\n",
    "           ('Math-Computer Science (MATH)', 'Computer Science (CSE)', 'Computer Engineering (CSE)', 'Bioinformatics (CSE)', \n",
    "            'Computer Engineering (ECE)', 'Computation (COGS)', 'Human-Computer Interaction (COGS)'), loc = 2) \n",
    "mpl.show()"
   ]
  },
  {
   "cell_type": "code",
   "execution_count": 33,
   "metadata": {
    "collapsed": false
   },
   "outputs": [],
   "source": [
    "### more readable in terms of individual elements but the line is way too long to actually understand ###\n",
    "### does not require dataframe to be transposed ###\n",
    "\n",
    "#width = .35\n",
    "#n = np.arange(7)\n",
    "#pMCS = mpl.bar( n, df['Math-Computer Science (MATH)'], width) # MathCS\n",
    "#pCSC = mpl.bar( n, df['Computer Science (CSE)'], width, bottom = df['Math-Computer Science (MATH)']) # CS\n",
    "#pCEC = mpl.bar( n, df['Computer Engineering (CSE)'], width, bottom = df['Computer Science (CSE)']) # CE CSE\n",
    "#pBIO = mpl.bar( n, df['Bioinformatics'], width, bottom = df['Computer Engineering (CSE)']) # Bioinf\n",
    "#pCEE = mpl.bar( n, df['Computer Engineering (ECE)'], width, bottom = df['Bioinformatics']) # CE ECE\n",
    "#pCPC = mpl.bar( n, df['Computation (COGS)'], width, bottom = df['Computer Engineering (ECE)']) # Computation\n",
    "#pHCI = mpl.bar( n, df['Human-Computer Interaction (COGS)'], width, bottom = df['Computation (COGS)']) # Human Comp Interaction "
   ]
  },
  {
   "cell_type": "code",
   "execution_count": 3,
   "metadata": {
    "collapsed": false
   },
   "outputs": [],
   "source": [
    "### set up percentage data ###\n",
    "totals = np.array(dMCS) + np.array(dCSC) + np.array(dCEC) + np.array(dBIO) + np.array(dCEE) + np.array(dCPC) + np.array(dHCI) \n",
    "\n",
    "cMCS = dMCS/totals\n",
    "cCSC = dCSC/totals\n",
    "cCEC = dCEC/totals\n",
    "cBIO = dBIO/totals\n",
    "cCEE = dCEE/totals\n",
    "cCPC = dCPC/totals\n",
    "cHCI = dHCI/totals"
   ]
  },
  {
   "cell_type": "code",
   "execution_count": 39,
   "metadata": {
    "collapsed": false
   },
   "outputs": [],
   "source": [
    "### set up plot values, attributes PERCENTAGE ###\n",
    "width = 1\n",
    "n = np.arange(14)\n",
    "\n",
    "# MathCS\n",
    "pMCS = mpl.bar( n, cMCS, width, color = 'black')\n",
    "# CS\n",
    "pCSC = mpl.bar( n, cCSC, width, bottom = np.array(cMCS), color = 'white')\n",
    "# CE CSE\n",
    "pCEC = mpl.bar( n, cCEC, width, bottom = np.array(cMCS) + np.array(cCSC), color = 'gray', hatch = '.')\n",
    "# Bioinf\n",
    "pBIO = mpl.bar( n, cBIO, width, bottom = np.array(cMCS) + np.array(cCSC) + np.array(cCEC), color = 'white', hatch = '\\\\')\n",
    "# CE ECE\n",
    "pCEE = mpl.bar( n, cCEE, width, bottom = np.array(cMCS) + np.array(cCSC) + np.array(cCEC) + np.array(cBIO), color = 'gray', hatch = 'o')\n",
    "# Computation\n",
    "pCPC = mpl.bar( n, cCPC, width, bottom = np.array(cMCS) + np.array(cCSC) + np.array(cCEC) + np.array(cBIO) + np.array(cCEE), color = 'white', hatch = '/')\n",
    "# Human Computer Interaction\n",
    "pHCI = mpl.bar( n, cHCI, width, bottom = np.array(cMCS) + np.array(cCSC) + np.array(cCEC) + np.array(cBIO) + np.array(cCEE) + np.array(cCPC), color = 'gray')\n",
    "\n",
    "mpl.title('Growth of Math-Computer Science Among Computer Science Derivatives')\n",
    "mpl.ylabel('Percentage of Undergraduates')\n",
    "mpl.xticks(np.arange(14) + np.array(np.ones(14)*.5), dfT[0])\n",
    "mpl.yticks(np.arange(0, 1.0, .1))\n",
    "# create legend table\n",
    "mpl.legend((pMCS[0], pCSC[0], pCEC[0], pBIO[0], pCEE[0], pCPC[0], pHCI[0]), \n",
    "           ('Math-Computer Science (MATH)', 'Computer Science (CSE)', 'Computer Engineering (CSE)', 'Bioinformatics (CSE)', \n",
    "            'Computer Engineering (ECE)', 'Computation (COGS)', 'Human-Computer Interaction (COGS)'), loc = 0) \n",
    "mpl.show()"
   ]
  },
  {
   "cell_type": "code",
   "execution_count": null,
   "metadata": {
    "collapsed": true
   },
   "outputs": [],
   "source": [
    "# COLOR\n",
    "# 8DBFD6 54742A B7C7EF 55A97C DDD4F9 50924D 6AB7AD"
   ]
  },
  {
   "cell_type": "code",
   "execution_count": 4,
   "metadata": {
    "collapsed": false
   },
   "outputs": [],
   "source": [
    "### set up plot values, attributes ABSOLUTE, COLOR ###\n",
    "width = 1\n",
    "n = np.arange(14)\n",
    "\n",
    "# MathCS\n",
    "pMCS = mpl.bar( n, dMCS, width, color = '#8DBFD6')\n",
    "# CS\n",
    "pCSC = mpl.bar( n, dCSC, width, bottom = np.array(dMCS), color = '#54742A')\n",
    "# CE CSE\n",
    "pCEC = mpl.bar( n, dCEC, width, bottom = np.array(dMCS) + np.array(dCSC), color = '#B7C7EF')\n",
    "# Bioinf\n",
    "pBIO = mpl.bar( n, dBIO, width, bottom = np.array(dMCS) + np.array(dCSC) + np.array(dCEC), color = '#55A97C')\n",
    "# CE ECE\n",
    "pCEE = mpl.bar( n, dCEE, width, bottom = np.array(dMCS) + np.array(dCSC) + np.array(dCEC) + np.array(dBIO), color = '#DDD4F9')\n",
    "# Computation\n",
    "pCPC = mpl.bar( n, dCPC, width, bottom = np.array(dMCS) + np.array(dCSC) + np.array(dCEC) + np.array(dBIO) + np.array(dCEE), color = '#50924D')\n",
    "# Human Computer Interaction\n",
    "pHCI = mpl.bar( n, dHCI, width, bottom = np.array(dMCS) + np.array(dCSC) + np.array(dCEC) + np.array(dBIO) + np.array(dCEE) + np.array(dCPC), color = '#6AB7AD')\n",
    "\n",
    "mpl.title('Growth of Math-Computer Science Among Computer Science Derivatives')\n",
    "mpl.ylabel('Number of Undergraduates')\n",
    "mpl.xticks(np.arange(14) + np.array(np.ones(14)*.5), dfT[0])\n",
    "mpl.yticks(np.arange(0, 3500, 500))\n",
    "# create legend table\n",
    "mpl.legend((pMCS[0], pCSC[0], pCEC[0], pBIO[0], pCEE[0], pCPC[0], pHCI[0]),\n",
    "           ('Math-Computer Science (MATH)', 'Computer Science (CSE)', 'Computer Engineering (CSE)', 'Bioinformatics (CSE)', \n",
    "            'Computer Engineering (ECE)', 'Computation (COGS)', 'Human-Computer Interaction (COGS)'), loc = 2) \n",
    "mpl.show()"
   ]
  },
  {
   "cell_type": "code",
   "execution_count": 5,
   "metadata": {
    "collapsed": false
   },
   "outputs": [],
   "source": [
    "### set up plot values, attributes PERCENTAGE ###\n",
    "width = 1\n",
    "n = np.arange(14)\n",
    "\n",
    "# MathCS\n",
    "pMCS = mpl.bar( n, cMCS, width, color = '#8DBFD6')\n",
    "# CS\n",
    "pCSC = mpl.bar( n, cCSC, width, bottom = np.array(cMCS), color = '#54742A')\n",
    "# CE CSE\n",
    "pCEC = mpl.bar( n, cCEC, width, bottom = np.array(cMCS) + np.array(cCSC), color = '#B7C7EF')\n",
    "# Bioinf\n",
    "pBIO = mpl.bar( n, cBIO, width, bottom = np.array(cMCS) + np.array(cCSC) + np.array(cCEC), color = '#55A97C')\n",
    "# CE ECE\n",
    "pCEE = mpl.bar( n, cCEE, width, bottom = np.array(cMCS) + np.array(cCSC) + np.array(cCEC) + np.array(cBIO), color = '#DDD4F9')\n",
    "# Computation\n",
    "pCPC = mpl.bar( n, cCPC, width, bottom = np.array(cMCS) + np.array(cCSC) + np.array(cCEC) + np.array(cBIO) + np.array(cCEE), color = '#50924D')\n",
    "# Human Computer Interaction\n",
    "pHCI = mpl.bar( n, cHCI, width, bottom = np.array(cMCS) + np.array(cCSC) + np.array(cCEC) + np.array(cBIO) + np.array(cCEE) + np.array(cCPC), color = '#6AB7AD')\n",
    "\n",
    "mpl.title('Growth of Math-Computer Science Among Computer Science Derivatives')\n",
    "mpl.ylabel('Percentage of Undergraduates')\n",
    "mpl.xticks(np.arange(14) + np.array(np.ones(14)*.5), dfT[0])\n",
    "mpl.yticks(np.arange(0, 1.0, .1))\n",
    "# create legend table\n",
    "mpl.legend((pMCS[0], pCSC[0], pCEC[0], pBIO[0], pCEE[0], pCPC[0], pHCI[0]), \n",
    "           ('Math-Computer Science (MATH)', 'Computer Science (CSE)', 'Computer Engineering (CSE)', 'Bioinformatics (CSE)', \n",
    "            'Computer Engineering (ECE)', 'Computation (COGS)', 'Human-Computer Interaction (COGS)'), loc = 0) \n",
    "mpl.show()"
   ]
  },
  {
   "cell_type": "code",
   "execution_count": null,
   "metadata": {
    "collapsed": true
   },
   "outputs": [],
   "source": []
  }
 ],
 "metadata": {
  "kernelspec": {
   "display_name": "Python 3",
   "language": "python",
   "name": "python3"
  },
  "language_info": {
   "codemirror_mode": {
    "name": "ipython",
    "version": 3
   },
   "file_extension": ".py",
   "mimetype": "text/x-python",
   "name": "python",
   "nbconvert_exporter": "python",
   "pygments_lexer": "ipython3",
   "version": "3.5.1"
  }
 },
 "nbformat": 4,
 "nbformat_minor": 0
}
