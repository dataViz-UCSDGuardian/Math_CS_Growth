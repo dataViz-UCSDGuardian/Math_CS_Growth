{
 "cells": [
  {
   "cell_type": "code",
   "execution_count": 1,
   "metadata": {
    "collapsed": true
   },
   "outputs": [],
   "source": [
    "from pandas import DataFrame, read_excel\n",
    "import numpy as np\n",
    "import matplotlib.pyplot as mpl "
   ]
  },
  {
   "cell_type": "code",
   "execution_count": 2,
   "metadata": {
    "collapsed": false
   },
   "outputs": [],
   "source": [
    "### set up dataframe ###\n",
    "df = read_excel(\"Growth of MathCS Data.xlsx\", sheetname = 1).as_matrix()\n",
    "# transpose Matrix to align majors with rows\n",
    "dfT = [[row[i] for row in df] for i in range(df[0].size)] \n",
    "dMCS, dAPM, dSCE, dMAT, dMTE, dAPS, dPBS = dfT[1], dfT[2], dfT[3], dfT[4], dfT[5], dfT[6], dfT[7]"
   ]
  },
  {
   "cell_type": "code",
   "execution_count": 3,
   "metadata": {
    "collapsed": false
   },
   "outputs": [],
   "source": [
    "### set up plot values, attributes ABSOLUTE###\n",
    "width = 1\n",
    "n = np.arange(14)\n",
    "\n",
    "# MathCS\n",
    "pMCS = mpl.bar( n, dMCS, width, color = 'black')\n",
    "# Applied Mathematics\n",
    "pAPM = mpl.bar( n, dAPM, width, bottom = np.array(dMCS), color = 'white')\n",
    "# Math Secondary Education\n",
    "pSCE = mpl.bar( n, dSCE, width, bottom = np.array(dMCS) + np.array(dAPM), color = 'gray')\n",
    "# Mathematics\n",
    "pMAT = mpl.bar( n, dMAT, width, bottom = np.array(dMCS) + np.array(dAPM) + np.array(dSCE), color = 'white', hatch = '\\\\')\n",
    "# Math-Econ\n",
    "pMTE = mpl.bar( n, dMTE, width, bottom = np.array(dMCS) + np.array(dAPM) + np.array(dSCE) + np.array(dMAT), color = 'gray', hatch = '.')\n",
    "# Applied Sciences\n",
    "pAPS = mpl.bar( n, dAPS, width, bottom = np.array(dMCS) + np.array(dAPM) + np.array(dSCE) + np.array(dMAT) + np.array(dMTE), color = 'white', hatch = '/')\n",
    "# Probability and Statistics\n",
    "pPBS = mpl.bar( n, dPBS, width, bottom = np.array(dMCS) + np.array(dAPM) + np.array(dSCE) + np.array(dMAT) + np.array(dMTE) + np.array(dAPS), color = 'gray', hatch = 'o')\n",
    "\n",
    "\n",
    "mpl.title('Growth of Math-Computer Science Among Math Department')\n",
    "mpl.ylabel('Number of Undergraduates')\n",
    "mpl.xticks(np.arange(14) + np.array(np.ones(14)*.5), dfT[0])\n",
    "mpl.yticks(np.arange(0, 2000, 250))\n",
    "# create legend table\n",
    "mpl.legend((pMCS[0], pAPM[0], pSCE[0], pMAT[0], pMTE[0], pAPS[0], pPBS[0]),\n",
    "           ('Math-Computer Science', 'Applied Mathematics', 'Math Secondary Education', 'Mathematics', \n",
    "            'Math-Econ', 'Applied Sciences', 'Probability and Statistics'), loc = 0) \n",
    "mpl.show()"
   ]
  },
  {
   "cell_type": "code",
   "execution_count": 21,
   "metadata": {
    "collapsed": false
   },
   "outputs": [],
   "source": [
    "### set up percentage data ###\n",
    "totals = np.array(dMCS) + np.array(dAPM) + np.array(dSCE) + np.array(dMAT) + np.array(dMTE) + np.array(dAPS) + np.array(dPBS) \n",
    "\n",
    "cMCS = dMCS/totals\n",
    "cAPM = dAPM/totals\n",
    "cSCE = dSCE/totals\n",
    "cMAT = dMAT/totals\n",
    "cMTE = dMTE/totals\n",
    "cAPS = dAPS/totals\n",
    "cPBS = dPBS/totals"
   ]
  },
  {
   "cell_type": "code",
   "execution_count": null,
   "metadata": {
    "collapsed": false
   },
   "outputs": [],
   "source": [
    "### set up plot values, attributes PERCENTAGE ###\n",
    "width = 1\n",
    "n = np.arange(14)\n",
    "\n",
    "# MathCS\n",
    "pMCS = mpl.bar( n, cMCS, width, color = 'black')\n",
    "# Applied Mathematics\n",
    "pAPM = mpl.bar( n, cAPM, width, bottom = np.array(cMCS), color = 'white')\n",
    "# Math Secondary Education\n",
    "pSCE = mpl.bar( n, cSCE, width, bottom = np.array(cMCS) + np.array(cAPM), color = 'gray')\n",
    "# Mathematics\n",
    "pMAT = mpl.bar( n, cMAT, width, bottom = np.array(cMCS) + np.array(cAPM) + np.array(cSCE), color = 'white', hatch = '\\\\')\n",
    "# Math-Econ\n",
    "pMTE = mpl.bar( n, cMTE, width, bottom = np.array(cMCS) + np.array(cAPM) + np.array(cSCE) + np.array(cMAT), color = 'gray', hatch = '.')\n",
    "# Applied Sciences\n",
    "pAPS = mpl.bar( n, cAPS, width, bottom = np.array(cMCS) + np.array(cAPM) + np.array(cSCE) + np.array(cMAT) + np.array(cMTE), color = 'white', hatch = '/')\n",
    "# Probability and Statistics\n",
    "pPBS = mpl.bar( n, cPBS, width, bottom = np.array(cMCS) + np.array(cAPM) + np.array(cSCE) + np.array(cMAT) + np.array(cMTE) + np.array(cAPS), color = 'gray', hatch = 'o')\n",
    "\n",
    "\n",
    "mpl.title('Growth of Math-Computer Science Among Math Department')\n",
    "mpl.ylabel('Percentage of Undergraduates')\n",
    "mpl.xticks(np.arange(14) + np.array(np.ones(14)*.5), dfT[0])\n",
    "mpl.yticks(np.arange(0, 1.0, .1))\n",
    "# create legend table\n",
    "mpl.legend((pMCS[0], pAPM[0], pSCE[0], pMAT[0], pMTE[0], pAPS[0], pPBS[0]),\n",
    "           ('Math-Computer Science', 'Applied Mathematics', 'Math Secondary Education', 'Mathematics', \n",
    "            'Math-Econ', 'Applied Sciences', 'Probability and Statistics'), loc = 0) \n",
    "mpl.show()"
   ]
  },
  {
   "cell_type": "code",
   "execution_count": null,
   "metadata": {
    "collapsed": true
   },
   "outputs": [],
   "source": [
    "# COLOR #\n",
    "# SET 1: 83BDCD 5A4B18 E4D8F9 6AB7AD B7C7EF 509858 4E2618\n",
    "# SET 2: 8DBFD6 54742A B7C7EF 55A97C DDD4F9 50924D 6AB7AD"
   ]
  },
  {
   "cell_type": "code",
   "execution_count": 19,
   "metadata": {
    "collapsed": false
   },
   "outputs": [],
   "source": [
    "### set up plot values, attributes ABSOLUTE, COLOR###\n",
    "width = 1\n",
    "n = np.arange(14)\n",
    "\n",
    "# MathCS\n",
    "pMCS = mpl.bar( n, dMCS, width, color = '#8DBFD6')\n",
    "# Applied Mathematics\n",
    "pAPM = mpl.bar( n, dAPM, width, bottom = np.array(dMCS), color = '#54742A')\n",
    "# Math Secondary Education\n",
    "pSCE = mpl.bar( n, dSCE, width, bottom = np.array(dMCS) + np.array(dAPM), color = '#B7C7EF')\n",
    "# Mathematics\n",
    "pMAT = mpl.bar( n, dMAT, width, bottom = np.array(dMCS) + np.array(dAPM) + np.array(dSCE), color = '#55A97C')\n",
    "# Math-Econ\n",
    "pMTE = mpl.bar( n, dMTE, width, bottom = np.array(dMCS) + np.array(dAPM) + np.array(dSCE) + np.array(dMAT), color = '#DDD4F9')\n",
    "# Applied Sciences\n",
    "pAPS = mpl.bar( n, dAPS, width, bottom = np.array(dMCS) + np.array(dAPM) + np.array(dSCE) + np.array(dMAT) + np.array(dMTE), color = '#50924D')\n",
    "# Probability and Statistics\n",
    "pPBS = mpl.bar( n, dPBS, width, bottom = np.array(dMCS) + np.array(dAPM) + np.array(dSCE) + np.array(dMAT) + np.array(dMTE) + np.array(dAPS), \n",
    "               color = '#6AB7AD')\n",
    "\n",
    "\n",
    "mpl.title('Growth of Math-Computer Science Among Math Department')\n",
    "mpl.ylabel('Number of Undergraduates')\n",
    "mpl.xticks(np.arange(14) + np.array(np.ones(14)*.5), dfT[0])\n",
    "mpl.yticks(np.arange(0, 2000, 250))\n",
    "# create legend table\n",
    "mpl.legend((pMCS[0], pAPM[0], pSCE[0], pMAT[0], pMTE[0], pAPS[0], pPBS[0]),\n",
    "           ('Math-Computer Science', 'Applied Mathematics', 'Math Secondary Education', 'Mathematics', \n",
    "            'Math-Econ', 'Applied Sciences', 'Probability and Statistics'), loc = 0) \n",
    "mpl.show()"
   ]
  },
  {
   "cell_type": "code",
   "execution_count": 22,
   "metadata": {
    "collapsed": false
   },
   "outputs": [],
   "source": [
    "### set up plot values, attributes PERCENTAGE ###\n",
    "width = 1\n",
    "n = np.arange(14)\n",
    "\n",
    "# MathCS\n",
    "pMCS = mpl.bar( n, cMCS, width, color = '#8DBFD6')\n",
    "# Applied Mathematics\n",
    "pAPM = mpl.bar( n, cAPM, width, bottom = np.array(cMCS), color = '#54742A')\n",
    "# Math Secondary Education\n",
    "pSCE = mpl.bar( n, cSCE, width, bottom = np.array(cMCS) + np.array(cAPM), color = '#B7C7EF')\n",
    "# Mathematics\n",
    "pMAT = mpl.bar( n, cMAT, width, bottom = np.array(cMCS) + np.array(cAPM) + np.array(cSCE), color = '#55A97C')\n",
    "# Math-Econ\n",
    "pMTE = mpl.bar( n, cMTE, width, bottom = np.array(cMCS) + np.array(cAPM) + np.array(cSCE) + np.array(cMAT), color = '#DDD4F9')\n",
    "# Applied Sciences\n",
    "pAPS = mpl.bar( n, cAPS, width, bottom = np.array(cMCS) + np.array(cAPM) + np.array(cSCE) + np.array(cMAT) + np.array(cMTE), color ='#50924D')\n",
    "# Probability and Statistics\n",
    "pPBS = mpl.bar( n, cPBS, width, bottom = np.array(cMCS) + np.array(cAPM) + np.array(cSCE) + np.array(cMAT) + np.array(cMTE) + np.array(cAPS), color = '#6AB7AD')\n",
    "\n",
    "\n",
    "mpl.title('Growth of Math-Computer Science Among Math Department')\n",
    "mpl.ylabel('Percentage of Undergraduates')\n",
    "mpl.xticks(np.arange(14) + np.array(np.ones(14)*.5), dfT[0])\n",
    "mpl.yticks(np.arange(0, 1.0, .1))\n",
    "# create legend table\n",
    "mpl.legend((pMCS[0], pAPM[0], pSCE[0], pMAT[0], pMTE[0], pAPS[0], pPBS[0]),\n",
    "           ('Math-Computer Science', 'Applied Mathematics', 'Math Secondary Education', 'Mathematics', \n",
    "            'Math-Econ', 'Applied Sciences', 'Probability and Statistics'), loc = 0) \n",
    "mpl.show()"
   ]
  },
  {
   "cell_type": "code",
   "execution_count": null,
   "metadata": {
    "collapsed": true
   },
   "outputs": [],
   "source": []
  }
 ],
 "metadata": {
  "kernelspec": {
   "display_name": "Python 3",
   "language": "python",
   "name": "python3"
  },
  "language_info": {
   "codemirror_mode": {
    "name": "ipython",
    "version": 3
   },
   "file_extension": ".py",
   "mimetype": "text/x-python",
   "name": "python",
   "nbconvert_exporter": "python",
   "pygments_lexer": "ipython3",
   "version": "3.5.1"
  }
 },
 "nbformat": 4,
 "nbformat_minor": 0
}
